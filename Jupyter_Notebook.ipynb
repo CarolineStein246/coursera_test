{
 "cells": [
  {
   "cell_type": "markdown",
   "metadata": {},
   "source": [
    "<center>\n",
    "    <img src=\"https://cf-courses-data.s3.us.cloud-object-storage.appdomain.cloud/IBMDeveloperSkillsNetwork-DS0105EN-SkillsNetwork/labs/Module2/images/SN_web_lightmode.png\" width=\"300\" alt=\"cognitiveclass.ai logo\"  />\n",
    "</center>\n"
   ]
  },
  {
   "cell_type": "markdown",
   "metadata": {},
   "source": [
    "#### Add your code below following the instructions given in the course\n"
   ]
  },
  {
   "cell_type": "markdown",
   "metadata": {},
   "source": [
    "## My Jupyter Notebook on IBM Watson "
   ]
  },
  {
   "cell_type": "markdown",
   "metadata": {},
   "source": [
    "**Caroline Stein**   \n",
    "Data Analyst"
   ]
  },
  {
   "cell_type": "markdown",
   "metadata": {},
   "source": [
    "*I am interested in data science because it can help objectivy intuitions and feelings in business and create value for all domains of society by figuring out patterns and relationships.*"
   ]
  },
  {
   "cell_type": "markdown",
   "metadata": {},
   "source": [
    "### The code presented below shows a simple calculation of two integers. "
   ]
  },
  {
   "cell_type": "code",
   "execution_count": 4,
   "metadata": {},
   "outputs": [
    {
     "name": "stdout",
     "output_type": "stream",
     "text": [
      "4\n"
     ]
    }
   ],
   "source": [
    "print(2+2)"
   ]
  },
  {
   "cell_type": "markdown",
   "metadata": {},
   "source": [
    "As I learned in this course, there are a plenty of helpful jupyter notebooks that can help get started with [exploratory analysis in python.](https://nbviewer.jupyter.org/github/Tanu-N-Prabhu/Python/blob/master/Exploratory_data_Analysis.ipynb)\n",
    "\n",
    "You can use these notebooks as follows:\n",
    "1. First check if the notebook is shared in a rendered mode\n",
    "    * rendered mode means that the notebooks can be used as if it was running locally  ycour machine\n",
    "    * if not rendered you can use render it [here](https://nbviewer.org/)\n",
    "2. Second either save it in your notebook library or load it in github.\n",
    "3. Adjust the code to your specific use case and data\n",
    "\n",
    "In the notebook one can also include a table i.e. to better illustrate a test setup :\n",
    "\n",
    "|Intervention       | Email with banner | Email without banner |\n",
    "|-------------------|:-----------------:|:--------------------:|\n",
    "|Group selection A  | ID 534            | ID 539               |\n",
    "|Group selection B  | ID 533            | ID 540               |\n",
    "\n"
   ]
  },
  {
   "cell_type": "code",
   "execution_count": null,
   "metadata": {},
   "outputs": [],
   "source": []
  }
 ],
 "metadata": {
  "kernelspec": {
   "display_name": "Python",
   "language": "python",
   "name": "conda-env-python-py"
  },
  "language_info": {
   "codemirror_mode": {
    "name": "ipython",
    "version": 3
   },
   "file_extension": ".py",
   "mimetype": "text/x-python",
   "name": "python",
   "nbconvert_exporter": "python",
   "pygments_lexer": "ipython3",
   "version": "3.7.12"
  }
 },
 "nbformat": 4,
 "nbformat_minor": 4
}
